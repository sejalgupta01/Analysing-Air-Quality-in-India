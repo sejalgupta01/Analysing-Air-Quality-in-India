{
 "cells": [
  {
   "cell_type": "markdown",
   "metadata": {},
   "source": [
    "# Analysing Air Quality in India\n",
    "\n",
    "This is a course project associated with the course [Data Analysis with Python: Zero to Pandas](zerotopandas.com), which covers basic Python programming, NumPy, pandas and matplotlib. This project notebook implements the concepts covered to analyse the air quality in India. To do so, the dataset [Air Quality Data in India (2015 - 2020)](https://www.kaggle.com/rohanrao/air-quality-data-in-india) is used, which contains daily and hourly data of pollutants and Air Quality Index of stations and cities across India. The dataset is obtained from [Kaggle](https://www.kaggle.com/).\n",
    "\n",
    "We'll look at relationships between various parameters, what we can conclude from them and make arithmetic modifications so that we can use the information available in a fruitful way. "
   ]
  },
  {
   "cell_type": "markdown",
   "metadata": {},
   "source": [
    "### How to run the code\n",
    "\n",
    "This is an executable [*Jupyter notebook*](https://jupyter.org) hosted on [Jovian.ml](https://www.jovian.ml), a platform for sharing data science projects. You can run and experiment with the code in a couple of ways: *using free online resources* (recommended) or *on your own computer*.\n",
    "\n",
    "#### Option 1: Running using free online resources (1-click, recommended)\n",
    "\n",
    "The easiest way to start executing this notebook is to click the \"Run\" button at the top of this page, and select \"Run on Binder\". This will run the notebook on [mybinder.org](https://mybinder.org), a free online service for running Jupyter notebooks. You can also select \"Run on Colab\" or \"Run on Kaggle\".\n",
    "\n",
    "\n",
    "#### Option 2: Running on your computer locally\n",
    "\n",
    "1. Install Conda by [following these instructions](https://conda.io/projects/conda/en/latest/user-guide/install/index.html). Add Conda binaries to your system `PATH`, so you can use the `conda` command on your terminal.\n",
    "\n",
    "2. Create a Conda environment and install the required libraries by running these commands on the terminal:\n",
    "\n",
    "```\n",
    "conda create -n zerotopandas -y python=3.8 \n",
    "conda activate zerotopandas\n",
    "pip install jovian jupyter numpy pandas matplotlib seaborn opendatasets --upgrade\n",
    "```\n",
    "\n",
    "3. Press the \"Clone\" button above to copy the command for downloading the notebook, and run it on the terminal. This will create a new directory and download the notebook. The command will look something like this:\n",
    "\n",
    "```\n",
    "jovian clone notebook-owner/notebook-id\n",
    "```\n",
    "\n",
    "\n",
    "\n",
    "4. Enter the newly created directory using `cd directory-name` and start the Jupyter notebook.\n",
    "\n",
    "```\n",
    "jupyter notebook\n",
    "```\n",
    "\n",
    "You can now access Jupyter's web interface by clicking the link that shows up on the terminal or by visiting http://localhost:8888 on your browser. Click on the notebook file (it has a `.ipynb` extension) to open it.\n"
   ]
  },
  {
   "cell_type": "markdown",
   "metadata": {},
   "source": [
    "## Downloading the Dataset\n",
    "\n",
    "First, we'll install the [`opendatasets` Python library](https://github.com/JovianML/opendatasets#opendatasets) in order to download the dataset easily, without having to go through the hassle of downloading it to our local machine and then uploading it manually each time."
   ]
  },
  {
   "cell_type": "code",
   "execution_count": 1,
   "metadata": {},
   "outputs": [],
   "source": [
    "!pip install jovian opendatasets --upgrade --quiet"
   ]
  },
  {
   "cell_type": "markdown",
   "metadata": {},
   "source": [
    "Let's begin by downloading the data, and listing the files within the dataset."
   ]
  },
  {
   "cell_type": "code",
   "execution_count": 2,
   "metadata": {},
   "outputs": [],
   "source": [
    "dataset_url = 'https://www.kaggle.com/rohanrao/air-quality-data-in-india' "
   ]
  },
  {
   "cell_type": "code",
   "execution_count": 3,
   "metadata": {},
   "outputs": [
    {
     "name": "stdout",
     "output_type": "stream",
     "text": [
      "Please provide your Kaggle credentials to download this dataset. Learn more: http://bit.ly/kaggle-creds\n",
      "Your Kaggle username: sejalgupta01\n",
      "Your Kaggle Key: ········\n"
     ]
    },
    {
     "name": "stderr",
     "output_type": "stream",
     "text": [
      " 26%|██▌       | 19.0M/72.9M [00:00<00:00, 192MB/s]"
     ]
    },
    {
     "name": "stdout",
     "output_type": "stream",
     "text": [
      "Downloading air-quality-data-in-india.zip to ./air-quality-data-in-india\n"
     ]
    },
    {
     "name": "stderr",
     "output_type": "stream",
     "text": [
      "100%|██████████| 72.9M/72.9M [00:00<00:00, 238MB/s]\n"
     ]
    },
    {
     "name": "stdout",
     "output_type": "stream",
     "text": [
      "\n"
     ]
    }
   ],
   "source": [
    "import opendatasets as od\n",
    "od.download(dataset_url)"
   ]
  },
  {
   "cell_type": "markdown",
   "metadata": {},
   "source": [
    "The dataset has been downloaded and extracted."
   ]
  },
  {
   "cell_type": "code",
   "execution_count": 4,
   "metadata": {},
   "outputs": [],
   "source": [
    "data_dir = './air-quality-data-in-india'"
   ]
  },
  {
   "cell_type": "code",
   "execution_count": 5,
   "metadata": {},
   "outputs": [
    {
     "data": {
      "text/plain": [
       "['station_hour.csv',\n",
       " 'city_hour.csv',\n",
       " 'stations.csv',\n",
       " 'station_day.csv',\n",
       " 'city_day.csv']"
      ]
     },
     "execution_count": 5,
     "metadata": {},
     "output_type": "execute_result"
    }
   ],
   "source": [
    "import os\n",
    "os.listdir(data_dir)"
   ]
  },
  {
   "cell_type": "markdown",
   "metadata": {},
   "source": [
    "Let us save and upload our work to Jovian before continuing."
   ]
  },
  {
   "cell_type": "code",
   "execution_count": 6,
   "metadata": {},
   "outputs": [],
   "source": [
    "project_name = \"air-quality-in-india\" "
   ]
  },
  {
   "cell_type": "code",
   "execution_count": 7,
   "metadata": {},
   "outputs": [],
   "source": [
    "!pip install jovian --upgrade -q"
   ]
  },
  {
   "cell_type": "code",
   "execution_count": 8,
   "metadata": {},
   "outputs": [],
   "source": [
    "import jovian"
   ]
  },
  {
   "cell_type": "code",
   "execution_count": 9,
   "metadata": {},
   "outputs": [
    {
     "data": {
      "application/javascript": [
       "window.require && require([\"base/js/namespace\"],function(Jupyter){Jupyter.notebook.save_checkpoint()})"
      ],
      "text/plain": [
       "<IPython.core.display.Javascript object>"
      ]
     },
     "metadata": {},
     "output_type": "display_data"
    },
    {
     "name": "stdout",
     "output_type": "stream",
     "text": [
      "[jovian] Attempting to save notebook..\u001b[0m\n",
      "[jovian] Updating notebook \"sejalgupta01/air-quality-in-india\" on https://jovian.ml/\u001b[0m\n",
      "[jovian] Uploading notebook..\u001b[0m\n",
      "[jovian] Capturing environment..\u001b[0m\n",
      "[jovian] Committed successfully! https://jovian.ml/sejalgupta01/air-quality-in-india\u001b[0m\n"
     ]
    },
    {
     "data": {
      "text/plain": [
       "'https://jovian.ml/sejalgupta01/air-quality-in-india'"
      ]
     },
     "execution_count": 9,
     "metadata": {},
     "output_type": "execute_result"
    }
   ],
   "source": [
    "jovian.commit(project=project_name)"
   ]
  },
  {
   "cell_type": "markdown",
   "metadata": {},
   "source": [
    "## Data Preparation and Cleaning\n",
    "\n",
    "After we have our data directory containing the csv file(s), the first step is to import pandas and using the `read_csv` function, load the dataset into a data frame. We explore the data in the file 'station_day.csv' which contains daily statistics of the pollutants and Air Quality Index for stations across India. We use `info()` and `describe()` on the data frame to get a brief idea about the dataset. When we display a snippet of the whole dataframe, we see `nan` values in some of the columns. To deal with that, we use `interpolate()` which does exactly what it means, using related known values to estimate unknown values. We parse the date into year, month and date. Lastly, we add a new column called **Total_conc**, which contains the sum of the concentrations of all the pollutants for each row. "
   ]
  },
  {
   "cell_type": "code",
   "execution_count": 10,
   "metadata": {},
   "outputs": [],
   "source": [
    "import pandas as pd"
   ]
  },
  {
   "cell_type": "code",
   "execution_count": 11,
   "metadata": {},
   "outputs": [],
   "source": [
    "air_quality_raw_df = pd.read_csv(data_dir + '/station_day.csv')"
   ]
  },
  {
   "cell_type": "code",
   "execution_count": 12,
   "metadata": {},
   "outputs": [
    {
     "data": {
      "text/html": [
       "<div>\n",
       "<style scoped>\n",
       "    .dataframe tbody tr th:only-of-type {\n",
       "        vertical-align: middle;\n",
       "    }\n",
       "\n",
       "    .dataframe tbody tr th {\n",
       "        vertical-align: top;\n",
       "    }\n",
       "\n",
       "    .dataframe thead th {\n",
       "        text-align: right;\n",
       "    }\n",
       "</style>\n",
       "<table border=\"1\" class=\"dataframe\">\n",
       "  <thead>\n",
       "    <tr style=\"text-align: right;\">\n",
       "      <th></th>\n",
       "      <th>StationId</th>\n",
       "      <th>Date</th>\n",
       "      <th>PM2.5</th>\n",
       "      <th>PM10</th>\n",
       "      <th>NO</th>\n",
       "      <th>NO2</th>\n",
       "      <th>NOx</th>\n",
       "      <th>NH3</th>\n",
       "      <th>CO</th>\n",
       "      <th>SO2</th>\n",
       "      <th>O3</th>\n",
       "      <th>Benzene</th>\n",
       "      <th>Toluene</th>\n",
       "      <th>Xylene</th>\n",
       "      <th>AQI</th>\n",
       "      <th>AQI_Bucket</th>\n",
       "    </tr>\n",
       "  </thead>\n",
       "  <tbody>\n",
       "    <tr>\n",
       "      <th>0</th>\n",
       "      <td>AP001</td>\n",
       "      <td>2017-11-24</td>\n",
       "      <td>71.36</td>\n",
       "      <td>115.75</td>\n",
       "      <td>1.75</td>\n",
       "      <td>20.65</td>\n",
       "      <td>12.40</td>\n",
       "      <td>12.19</td>\n",
       "      <td>0.10</td>\n",
       "      <td>10.76</td>\n",
       "      <td>109.26</td>\n",
       "      <td>0.17</td>\n",
       "      <td>5.92</td>\n",
       "      <td>0.10</td>\n",
       "      <td>NaN</td>\n",
       "      <td>NaN</td>\n",
       "    </tr>\n",
       "    <tr>\n",
       "      <th>1</th>\n",
       "      <td>AP001</td>\n",
       "      <td>2017-11-25</td>\n",
       "      <td>81.40</td>\n",
       "      <td>124.50</td>\n",
       "      <td>1.44</td>\n",
       "      <td>20.50</td>\n",
       "      <td>12.08</td>\n",
       "      <td>10.72</td>\n",
       "      <td>0.12</td>\n",
       "      <td>15.24</td>\n",
       "      <td>127.09</td>\n",
       "      <td>0.20</td>\n",
       "      <td>6.50</td>\n",
       "      <td>0.06</td>\n",
       "      <td>184.0</td>\n",
       "      <td>Moderate</td>\n",
       "    </tr>\n",
       "    <tr>\n",
       "      <th>2</th>\n",
       "      <td>AP001</td>\n",
       "      <td>2017-11-26</td>\n",
       "      <td>78.32</td>\n",
       "      <td>129.06</td>\n",
       "      <td>1.26</td>\n",
       "      <td>26.00</td>\n",
       "      <td>14.85</td>\n",
       "      <td>10.28</td>\n",
       "      <td>0.14</td>\n",
       "      <td>26.96</td>\n",
       "      <td>117.44</td>\n",
       "      <td>0.22</td>\n",
       "      <td>7.95</td>\n",
       "      <td>0.08</td>\n",
       "      <td>197.0</td>\n",
       "      <td>Moderate</td>\n",
       "    </tr>\n",
       "    <tr>\n",
       "      <th>3</th>\n",
       "      <td>AP001</td>\n",
       "      <td>2017-11-27</td>\n",
       "      <td>88.76</td>\n",
       "      <td>135.32</td>\n",
       "      <td>6.60</td>\n",
       "      <td>30.85</td>\n",
       "      <td>21.77</td>\n",
       "      <td>12.91</td>\n",
       "      <td>0.11</td>\n",
       "      <td>33.59</td>\n",
       "      <td>111.81</td>\n",
       "      <td>0.29</td>\n",
       "      <td>7.63</td>\n",
       "      <td>0.12</td>\n",
       "      <td>198.0</td>\n",
       "      <td>Moderate</td>\n",
       "    </tr>\n",
       "    <tr>\n",
       "      <th>4</th>\n",
       "      <td>AP001</td>\n",
       "      <td>2017-11-28</td>\n",
       "      <td>64.18</td>\n",
       "      <td>104.09</td>\n",
       "      <td>2.56</td>\n",
       "      <td>28.07</td>\n",
       "      <td>17.01</td>\n",
       "      <td>11.42</td>\n",
       "      <td>0.09</td>\n",
       "      <td>19.00</td>\n",
       "      <td>138.18</td>\n",
       "      <td>0.17</td>\n",
       "      <td>5.02</td>\n",
       "      <td>0.07</td>\n",
       "      <td>188.0</td>\n",
       "      <td>Moderate</td>\n",
       "    </tr>\n",
       "    <tr>\n",
       "      <th>...</th>\n",
       "      <td>...</td>\n",
       "      <td>...</td>\n",
       "      <td>...</td>\n",
       "      <td>...</td>\n",
       "      <td>...</td>\n",
       "      <td>...</td>\n",
       "      <td>...</td>\n",
       "      <td>...</td>\n",
       "      <td>...</td>\n",
       "      <td>...</td>\n",
       "      <td>...</td>\n",
       "      <td>...</td>\n",
       "      <td>...</td>\n",
       "      <td>...</td>\n",
       "      <td>...</td>\n",
       "      <td>...</td>\n",
       "    </tr>\n",
       "    <tr>\n",
       "      <th>108030</th>\n",
       "      <td>WB013</td>\n",
       "      <td>2020-06-27</td>\n",
       "      <td>8.65</td>\n",
       "      <td>16.46</td>\n",
       "      <td>NaN</td>\n",
       "      <td>NaN</td>\n",
       "      <td>NaN</td>\n",
       "      <td>NaN</td>\n",
       "      <td>0.69</td>\n",
       "      <td>4.36</td>\n",
       "      <td>30.59</td>\n",
       "      <td>1.32</td>\n",
       "      <td>7.26</td>\n",
       "      <td>NaN</td>\n",
       "      <td>50.0</td>\n",
       "      <td>Good</td>\n",
       "    </tr>\n",
       "    <tr>\n",
       "      <th>108031</th>\n",
       "      <td>WB013</td>\n",
       "      <td>2020-06-28</td>\n",
       "      <td>11.80</td>\n",
       "      <td>18.47</td>\n",
       "      <td>NaN</td>\n",
       "      <td>NaN</td>\n",
       "      <td>NaN</td>\n",
       "      <td>NaN</td>\n",
       "      <td>0.68</td>\n",
       "      <td>3.49</td>\n",
       "      <td>38.95</td>\n",
       "      <td>1.42</td>\n",
       "      <td>7.92</td>\n",
       "      <td>NaN</td>\n",
       "      <td>65.0</td>\n",
       "      <td>Satisfactory</td>\n",
       "    </tr>\n",
       "    <tr>\n",
       "      <th>108032</th>\n",
       "      <td>WB013</td>\n",
       "      <td>2020-06-29</td>\n",
       "      <td>18.60</td>\n",
       "      <td>32.26</td>\n",
       "      <td>13.65</td>\n",
       "      <td>200.87</td>\n",
       "      <td>214.20</td>\n",
       "      <td>11.40</td>\n",
       "      <td>0.78</td>\n",
       "      <td>5.12</td>\n",
       "      <td>38.17</td>\n",
       "      <td>3.52</td>\n",
       "      <td>8.64</td>\n",
       "      <td>NaN</td>\n",
       "      <td>63.0</td>\n",
       "      <td>Satisfactory</td>\n",
       "    </tr>\n",
       "    <tr>\n",
       "      <th>108033</th>\n",
       "      <td>WB013</td>\n",
       "      <td>2020-06-30</td>\n",
       "      <td>16.07</td>\n",
       "      <td>39.30</td>\n",
       "      <td>7.56</td>\n",
       "      <td>29.13</td>\n",
       "      <td>36.69</td>\n",
       "      <td>29.26</td>\n",
       "      <td>0.69</td>\n",
       "      <td>5.88</td>\n",
       "      <td>29.64</td>\n",
       "      <td>1.86</td>\n",
       "      <td>8.40</td>\n",
       "      <td>NaN</td>\n",
       "      <td>57.0</td>\n",
       "      <td>Satisfactory</td>\n",
       "    </tr>\n",
       "    <tr>\n",
       "      <th>108034</th>\n",
       "      <td>WB013</td>\n",
       "      <td>2020-07-01</td>\n",
       "      <td>10.50</td>\n",
       "      <td>36.50</td>\n",
       "      <td>7.78</td>\n",
       "      <td>22.50</td>\n",
       "      <td>30.25</td>\n",
       "      <td>27.23</td>\n",
       "      <td>0.58</td>\n",
       "      <td>2.80</td>\n",
       "      <td>13.10</td>\n",
       "      <td>1.31</td>\n",
       "      <td>7.39</td>\n",
       "      <td>NaN</td>\n",
       "      <td>59.0</td>\n",
       "      <td>Satisfactory</td>\n",
       "    </tr>\n",
       "  </tbody>\n",
       "</table>\n",
       "<p>108035 rows × 16 columns</p>\n",
       "</div>"
      ],
      "text/plain": [
       "       StationId        Date  PM2.5    PM10     NO     NO2     NOx    NH3  \\\n",
       "0          AP001  2017-11-24  71.36  115.75   1.75   20.65   12.40  12.19   \n",
       "1          AP001  2017-11-25  81.40  124.50   1.44   20.50   12.08  10.72   \n",
       "2          AP001  2017-11-26  78.32  129.06   1.26   26.00   14.85  10.28   \n",
       "3          AP001  2017-11-27  88.76  135.32   6.60   30.85   21.77  12.91   \n",
       "4          AP001  2017-11-28  64.18  104.09   2.56   28.07   17.01  11.42   \n",
       "...          ...         ...    ...     ...    ...     ...     ...    ...   \n",
       "108030     WB013  2020-06-27   8.65   16.46    NaN     NaN     NaN    NaN   \n",
       "108031     WB013  2020-06-28  11.80   18.47    NaN     NaN     NaN    NaN   \n",
       "108032     WB013  2020-06-29  18.60   32.26  13.65  200.87  214.20  11.40   \n",
       "108033     WB013  2020-06-30  16.07   39.30   7.56   29.13   36.69  29.26   \n",
       "108034     WB013  2020-07-01  10.50   36.50   7.78   22.50   30.25  27.23   \n",
       "\n",
       "          CO    SO2      O3  Benzene  Toluene  Xylene    AQI    AQI_Bucket  \n",
       "0       0.10  10.76  109.26     0.17     5.92    0.10    NaN           NaN  \n",
       "1       0.12  15.24  127.09     0.20     6.50    0.06  184.0      Moderate  \n",
       "2       0.14  26.96  117.44     0.22     7.95    0.08  197.0      Moderate  \n",
       "3       0.11  33.59  111.81     0.29     7.63    0.12  198.0      Moderate  \n",
       "4       0.09  19.00  138.18     0.17     5.02    0.07  188.0      Moderate  \n",
       "...      ...    ...     ...      ...      ...     ...    ...           ...  \n",
       "108030  0.69   4.36   30.59     1.32     7.26     NaN   50.0          Good  \n",
       "108031  0.68   3.49   38.95     1.42     7.92     NaN   65.0  Satisfactory  \n",
       "108032  0.78   5.12   38.17     3.52     8.64     NaN   63.0  Satisfactory  \n",
       "108033  0.69   5.88   29.64     1.86     8.40     NaN   57.0  Satisfactory  \n",
       "108034  0.58   2.80   13.10     1.31     7.39     NaN   59.0  Satisfactory  \n",
       "\n",
       "[108035 rows x 16 columns]"
      ]
     },
     "execution_count": 12,
     "metadata": {},
     "output_type": "execute_result"
    }
   ],
   "source": [
    "air_quality_raw_df"
   ]
  },
  {
   "cell_type": "code",
   "execution_count": 13,
   "metadata": {},
   "outputs": [
    {
     "name": "stdout",
     "output_type": "stream",
     "text": [
      "<class 'pandas.core.frame.DataFrame'>\n",
      "RangeIndex: 108035 entries, 0 to 108034\n",
      "Data columns (total 16 columns):\n",
      " #   Column      Non-Null Count   Dtype  \n",
      "---  ------      --------------   -----  \n",
      " 0   StationId   108035 non-null  object \n",
      " 1   Date        108035 non-null  object \n",
      " 2   PM2.5       86410 non-null   float64\n",
      " 3   PM10        65329 non-null   float64\n",
      " 4   NO          90929 non-null   float64\n",
      " 5   NO2         91488 non-null   float64\n",
      " 6   NOx         92535 non-null   float64\n",
      " 7   NH3         59930 non-null   float64\n",
      " 8   CO          95037 non-null   float64\n",
      " 9   SO2         82831 non-null   float64\n",
      " 10  O3          82467 non-null   float64\n",
      " 11  Benzene     76580 non-null   float64\n",
      " 12  Toluene     69333 non-null   float64\n",
      " 13  Xylene      22898 non-null   float64\n",
      " 14  AQI         87025 non-null   float64\n",
      " 15  AQI_Bucket  87025 non-null   object \n",
      "dtypes: float64(13), object(3)\n",
      "memory usage: 13.2+ MB\n"
     ]
    }
   ],
   "source": [
    "air_quality_raw_df.info()"
   ]
  },
  {
   "cell_type": "code",
   "execution_count": 14,
   "metadata": {},
   "outputs": [
    {
     "data": {
      "text/html": [
       "<div>\n",
       "<style scoped>\n",
       "    .dataframe tbody tr th:only-of-type {\n",
       "        vertical-align: middle;\n",
       "    }\n",
       "\n",
       "    .dataframe tbody tr th {\n",
       "        vertical-align: top;\n",
       "    }\n",
       "\n",
       "    .dataframe thead th {\n",
       "        text-align: right;\n",
       "    }\n",
       "</style>\n",
       "<table border=\"1\" class=\"dataframe\">\n",
       "  <thead>\n",
       "    <tr style=\"text-align: right;\">\n",
       "      <th></th>\n",
       "      <th>PM2.5</th>\n",
       "      <th>PM10</th>\n",
       "      <th>NO</th>\n",
       "      <th>NO2</th>\n",
       "      <th>NOx</th>\n",
       "      <th>NH3</th>\n",
       "      <th>CO</th>\n",
       "      <th>SO2</th>\n",
       "      <th>O3</th>\n",
       "      <th>Benzene</th>\n",
       "      <th>Toluene</th>\n",
       "      <th>Xylene</th>\n",
       "      <th>AQI</th>\n",
       "    </tr>\n",
       "  </thead>\n",
       "  <tbody>\n",
       "    <tr>\n",
       "      <th>count</th>\n",
       "      <td>86410.000000</td>\n",
       "      <td>65329.000000</td>\n",
       "      <td>90929.000000</td>\n",
       "      <td>91488.000000</td>\n",
       "      <td>92535.000000</td>\n",
       "      <td>59930.000000</td>\n",
       "      <td>95037.000000</td>\n",
       "      <td>82831.000000</td>\n",
       "      <td>82467.000000</td>\n",
       "      <td>76580.000000</td>\n",
       "      <td>69333.000000</td>\n",
       "      <td>22898.000000</td>\n",
       "      <td>87025.000000</td>\n",
       "    </tr>\n",
       "    <tr>\n",
       "      <th>mean</th>\n",
       "      <td>80.272571</td>\n",
       "      <td>157.968427</td>\n",
       "      <td>23.123424</td>\n",
       "      <td>35.240760</td>\n",
       "      <td>41.195055</td>\n",
       "      <td>28.732875</td>\n",
       "      <td>1.605749</td>\n",
       "      <td>12.257634</td>\n",
       "      <td>38.134836</td>\n",
       "      <td>3.358029</td>\n",
       "      <td>15.345394</td>\n",
       "      <td>2.423446</td>\n",
       "      <td>179.749290</td>\n",
       "    </tr>\n",
       "    <tr>\n",
       "      <th>std</th>\n",
       "      <td>76.526403</td>\n",
       "      <td>123.418672</td>\n",
       "      <td>34.491019</td>\n",
       "      <td>29.510827</td>\n",
       "      <td>45.145976</td>\n",
       "      <td>24.897797</td>\n",
       "      <td>4.369578</td>\n",
       "      <td>12.984723</td>\n",
       "      <td>39.128004</td>\n",
       "      <td>11.156234</td>\n",
       "      <td>29.348587</td>\n",
       "      <td>6.472409</td>\n",
       "      <td>131.324339</td>\n",
       "    </tr>\n",
       "    <tr>\n",
       "      <th>min</th>\n",
       "      <td>0.020000</td>\n",
       "      <td>0.010000</td>\n",
       "      <td>0.010000</td>\n",
       "      <td>0.010000</td>\n",
       "      <td>0.000000</td>\n",
       "      <td>0.010000</td>\n",
       "      <td>0.000000</td>\n",
       "      <td>0.010000</td>\n",
       "      <td>0.010000</td>\n",
       "      <td>0.000000</td>\n",
       "      <td>0.000000</td>\n",
       "      <td>0.000000</td>\n",
       "      <td>8.000000</td>\n",
       "    </tr>\n",
       "    <tr>\n",
       "      <th>25%</th>\n",
       "      <td>31.880000</td>\n",
       "      <td>70.150000</td>\n",
       "      <td>4.840000</td>\n",
       "      <td>15.090000</td>\n",
       "      <td>13.970000</td>\n",
       "      <td>11.900000</td>\n",
       "      <td>0.530000</td>\n",
       "      <td>5.040000</td>\n",
       "      <td>18.895000</td>\n",
       "      <td>0.160000</td>\n",
       "      <td>0.690000</td>\n",
       "      <td>0.000000</td>\n",
       "      <td>86.000000</td>\n",
       "    </tr>\n",
       "    <tr>\n",
       "      <th>50%</th>\n",
       "      <td>55.950000</td>\n",
       "      <td>122.090000</td>\n",
       "      <td>10.290000</td>\n",
       "      <td>27.210000</td>\n",
       "      <td>26.660000</td>\n",
       "      <td>23.590000</td>\n",
       "      <td>0.910000</td>\n",
       "      <td>8.950000</td>\n",
       "      <td>30.840000</td>\n",
       "      <td>1.210000</td>\n",
       "      <td>4.330000</td>\n",
       "      <td>0.400000</td>\n",
       "      <td>132.000000</td>\n",
       "    </tr>\n",
       "    <tr>\n",
       "      <th>75%</th>\n",
       "      <td>99.920000</td>\n",
       "      <td>208.670000</td>\n",
       "      <td>24.980000</td>\n",
       "      <td>46.930000</td>\n",
       "      <td>50.500000</td>\n",
       "      <td>38.137500</td>\n",
       "      <td>1.450000</td>\n",
       "      <td>14.920000</td>\n",
       "      <td>47.140000</td>\n",
       "      <td>3.610000</td>\n",
       "      <td>17.510000</td>\n",
       "      <td>2.110000</td>\n",
       "      <td>254.000000</td>\n",
       "    </tr>\n",
       "    <tr>\n",
       "      <th>max</th>\n",
       "      <td>1000.000000</td>\n",
       "      <td>1000.000000</td>\n",
       "      <td>470.000000</td>\n",
       "      <td>448.050000</td>\n",
       "      <td>467.630000</td>\n",
       "      <td>418.900000</td>\n",
       "      <td>175.810000</td>\n",
       "      <td>195.650000</td>\n",
       "      <td>963.000000</td>\n",
       "      <td>455.030000</td>\n",
       "      <td>454.850000</td>\n",
       "      <td>170.370000</td>\n",
       "      <td>2049.000000</td>\n",
       "    </tr>\n",
       "  </tbody>\n",
       "</table>\n",
       "</div>"
      ],
      "text/plain": [
       "              PM2.5          PM10            NO           NO2           NOx  \\\n",
       "count  86410.000000  65329.000000  90929.000000  91488.000000  92535.000000   \n",
       "mean      80.272571    157.968427     23.123424     35.240760     41.195055   \n",
       "std       76.526403    123.418672     34.491019     29.510827     45.145976   \n",
       "min        0.020000      0.010000      0.010000      0.010000      0.000000   \n",
       "25%       31.880000     70.150000      4.840000     15.090000     13.970000   \n",
       "50%       55.950000    122.090000     10.290000     27.210000     26.660000   \n",
       "75%       99.920000    208.670000     24.980000     46.930000     50.500000   \n",
       "max     1000.000000   1000.000000    470.000000    448.050000    467.630000   \n",
       "\n",
       "                NH3            CO           SO2            O3       Benzene  \\\n",
       "count  59930.000000  95037.000000  82831.000000  82467.000000  76580.000000   \n",
       "mean      28.732875      1.605749     12.257634     38.134836      3.358029   \n",
       "std       24.897797      4.369578     12.984723     39.128004     11.156234   \n",
       "min        0.010000      0.000000      0.010000      0.010000      0.000000   \n",
       "25%       11.900000      0.530000      5.040000     18.895000      0.160000   \n",
       "50%       23.590000      0.910000      8.950000     30.840000      1.210000   \n",
       "75%       38.137500      1.450000     14.920000     47.140000      3.610000   \n",
       "max      418.900000    175.810000    195.650000    963.000000    455.030000   \n",
       "\n",
       "            Toluene        Xylene           AQI  \n",
       "count  69333.000000  22898.000000  87025.000000  \n",
       "mean      15.345394      2.423446    179.749290  \n",
       "std       29.348587      6.472409    131.324339  \n",
       "min        0.000000      0.000000      8.000000  \n",
       "25%        0.690000      0.000000     86.000000  \n",
       "50%        4.330000      0.400000    132.000000  \n",
       "75%       17.510000      2.110000    254.000000  \n",
       "max      454.850000    170.370000   2049.000000  "
      ]
     },
     "execution_count": 14,
     "metadata": {},
     "output_type": "execute_result"
    }
   ],
   "source": [
    "air_quality_raw_df.describe()"
   ]
  },
  {
   "cell_type": "code",
   "execution_count": 15,
   "metadata": {},
   "outputs": [],
   "source": [
    "air_quality_raw_df['Date'] = pd.to_datetime(air_quality_raw_df.Date)"
   ]
  },
  {
   "cell_type": "code",
   "execution_count": 16,
   "metadata": {},
   "outputs": [],
   "source": [
    "air_quality_raw_df['year'] = pd.DatetimeIndex(air_quality_raw_df.Date).year\n",
    "air_quality_raw_df['month'] = pd.DatetimeIndex(air_quality_raw_df.Date).month\n",
    "air_quality_raw_df['day'] = pd.DatetimeIndex(air_quality_raw_df.Date).day"
   ]
  },
  {
   "cell_type": "code",
   "execution_count": 17,
   "metadata": {},
   "outputs": [],
   "source": [
    "air_quality_raw_df = air_quality_raw_df.interpolate()"
   ]
  },
  {
   "cell_type": "code",
   "execution_count": 38,
   "metadata": {},
   "outputs": [],
   "source": [
    "air_quality_raw_df['Total_conc'] = air_quality_raw_df['PM2.5']+air_quality_raw_df['PM10']+air_quality_raw_df['NO']+air_quality_raw_df['NO2']+air_quality_raw_df['NOx']+air_quality_raw_df['NH3']+air_quality_raw_df['CO']+air_quality_raw_df['SO2']+air_quality_raw_df['O3']+air_quality_raw_df['Benzene']+air_quality_raw_df['Toluene']+air_quality_raw_df['Xylene']"
   ]
  },
  {
   "cell_type": "code",
   "execution_count": 40,
   "metadata": {},
   "outputs": [
    {
     "name": "stdout",
     "output_type": "stream",
     "text": [
      "<class 'pandas.core.frame.DataFrame'>\n",
      "RangeIndex: 108035 entries, 0 to 108034\n",
      "Data columns (total 20 columns):\n",
      " #   Column      Non-Null Count   Dtype         \n",
      "---  ------      --------------   -----         \n",
      " 0   StationId   108035 non-null  object        \n",
      " 1   Date        108035 non-null  datetime64[ns]\n",
      " 2   PM2.5       108035 non-null  float64       \n",
      " 3   PM10        108035 non-null  float64       \n",
      " 4   NO          108035 non-null  float64       \n",
      " 5   NO2         108035 non-null  float64       \n",
      " 6   NOx         108035 non-null  float64       \n",
      " 7   NH3         108035 non-null  float64       \n",
      " 8   CO          108035 non-null  float64       \n",
      " 9   SO2         108035 non-null  float64       \n",
      " 10  O3          108035 non-null  float64       \n",
      " 11  Benzene     108035 non-null  float64       \n",
      " 12  Toluene     108035 non-null  float64       \n",
      " 13  Xylene      108035 non-null  float64       \n",
      " 14  AQI         108034 non-null  float64       \n",
      " 15  AQI_Bucket  87025 non-null   object        \n",
      " 16  year        108035 non-null  int64         \n",
      " 17  month       108035 non-null  int64         \n",
      " 18  day         108035 non-null  int64         \n",
      " 19  Total_conc  108035 non-null  float64       \n",
      "dtypes: datetime64[ns](1), float64(14), int64(3), object(2)\n",
      "memory usage: 16.5+ MB\n"
     ]
    }
   ],
   "source": [
    "air_quality_raw_df.info()"
   ]
  },
  {
   "cell_type": "code",
   "execution_count": 41,
   "metadata": {},
   "outputs": [],
   "source": [
    "import jovian"
   ]
  },
  {
   "cell_type": "code",
   "execution_count": 42,
   "metadata": {},
   "outputs": [
    {
     "data": {
      "application/javascript": [
       "window.require && require([\"base/js/namespace\"],function(Jupyter){Jupyter.notebook.save_checkpoint()})"
      ],
      "text/plain": [
       "<IPython.core.display.Javascript object>"
      ]
     },
     "metadata": {},
     "output_type": "display_data"
    },
    {
     "name": "stdout",
     "output_type": "stream",
     "text": [
      "[jovian] Attempting to save notebook..\u001b[0m\n",
      "[jovian] Updating notebook \"sejalgupta01/air-quality-in-india\" on https://jovian.ml/\u001b[0m\n",
      "[jovian] Uploading notebook..\u001b[0m\n",
      "[jovian] Capturing environment..\u001b[0m\n",
      "[jovian] Committed successfully! https://jovian.ml/sejalgupta01/air-quality-in-india\u001b[0m\n"
     ]
    },
    {
     "data": {
      "text/plain": [
       "'https://jovian.ml/sejalgupta01/air-quality-in-india'"
      ]
     },
     "execution_count": 42,
     "metadata": {},
     "output_type": "execute_result"
    }
   ],
   "source": [
    "jovian.commit()"
   ]
  },
  {
   "cell_type": "markdown",
   "metadata": {},
   "source": [
    "We observe that even though, previously there were a lot of null values in most columns, after interpolation there is only 1 null value in the column **AQI**(could not be interpolated because the null value is in the first row), and some null values in **AQI_Bucket**(could not be interpolated because the dtype of AQI_Bucket values is `object`."
   ]
  },
  {
   "cell_type": "markdown",
   "metadata": {},
   "source": [
    "## Exploratory Analysis and Visualization\n",
    "\n",
    "In this section, we draw some graphs and visualizations using seaborn and matplotlib to observe relationships between various parameters, use these visualization and plots to understand the use and meaning of various terminologies, and draw conclusions about the data."
   ]
  },
  {
   "cell_type": "markdown",
   "metadata": {},
   "source": [
    "Let's begin by importing`matplotlib.pyplot` and `seaborn`."
   ]
  },
  {
   "cell_type": "code",
   "execution_count": 21,
   "metadata": {},
   "outputs": [],
   "source": [
    "import seaborn as sns\n",
    "import matplotlib\n",
    "import matplotlib.pyplot as plt\n",
    "%matplotlib inline\n",
    "\n",
    "sns.set_style('darkgrid')\n",
    "matplotlib.rcParams['font.size'] = 14\n",
    "matplotlib.rcParams['figure.figsize'] = (12, 7)\n",
    "matplotlib.rcParams['figure.facecolor'] = '#00000000'"
   ]
  },
  {
   "cell_type": "markdown",
   "metadata": {},
   "source": [
    "First we plot a bar graph to observe the average values and standard deviations relative to each other for each pollutant. For this, we create a new data frame called `pollutants_df`, having 2 columns, first column having the pollutant, and the second column having values of concentration of that pollutant from each row of the original data frame, `air_quality_raw_df`."
   ]
  },
  {
   "cell_type": "code",
   "execution_count": 22,
   "metadata": {},
   "outputs": [
    {
     "data": {
      "text/plain": [
       "['PM2.5',\n",
       " 'PM10',\n",
       " 'NO',\n",
       " 'NO2',\n",
       " 'NOx',\n",
       " 'NH3',\n",
       " 'CO',\n",
       " 'SO2',\n",
       " 'O3',\n",
       " 'Benzene',\n",
       " 'Toluene',\n",
       " 'Xylene']"
      ]
     },
     "execution_count": 22,
     "metadata": {},
     "output_type": "execute_result"
    }
   ],
   "source": [
    "pollutants = list(air_quality_raw_df.columns)[2:14]\n",
    "pollutants"
   ]
  },
  {
   "cell_type": "code",
   "execution_count": 26,
   "metadata": {},
   "outputs": [
    {
     "data": {
      "text/plain": [
       "1296420"
      ]
     },
     "execution_count": 26,
     "metadata": {},
     "output_type": "execute_result"
    }
   ],
   "source": [
    "number_of_rows = air_quality_raw_df.shape[0]\n",
    "pollutants_list = []\n",
    "for i in pollutants:\n",
    "    for j in range(number_of_rows):\n",
    "        pollutants_list += [i]\n",
    "len(pollutants_list)"
   ]
  },
  {
   "cell_type": "code",
   "execution_count": 31,
   "metadata": {},
   "outputs": [
    {
     "data": {
      "text/plain": [
       "1296420"
      ]
     },
     "execution_count": 31,
     "metadata": {},
     "output_type": "execute_result"
    }
   ],
   "source": [
    "concentration = []\n",
    "for i in pollutants:\n",
    "    concentration += list(air_quality_raw_df[i])\n",
    "len(concentration)"
   ]
  },
  {
   "cell_type": "code",
   "execution_count": 33,
   "metadata": {},
   "outputs": [
    {
     "data": {
      "text/html": [
       "<div>\n",
       "<style scoped>\n",
       "    .dataframe tbody tr th:only-of-type {\n",
       "        vertical-align: middle;\n",
       "    }\n",
       "\n",
       "    .dataframe tbody tr th {\n",
       "        vertical-align: top;\n",
       "    }\n",
       "\n",
       "    .dataframe thead th {\n",
       "        text-align: right;\n",
       "    }\n",
       "</style>\n",
       "<table border=\"1\" class=\"dataframe\">\n",
       "  <thead>\n",
       "    <tr style=\"text-align: right;\">\n",
       "      <th></th>\n",
       "      <th>Pollutants</th>\n",
       "      <th>Concentration</th>\n",
       "    </tr>\n",
       "  </thead>\n",
       "  <tbody>\n",
       "    <tr>\n",
       "      <th>0</th>\n",
       "      <td>PM2.5</td>\n",
       "      <td>71.36</td>\n",
       "    </tr>\n",
       "    <tr>\n",
       "      <th>1</th>\n",
       "      <td>PM2.5</td>\n",
       "      <td>81.40</td>\n",
       "    </tr>\n",
       "    <tr>\n",
       "      <th>2</th>\n",
       "      <td>PM2.5</td>\n",
       "      <td>78.32</td>\n",
       "    </tr>\n",
       "    <tr>\n",
       "      <th>3</th>\n",
       "      <td>PM2.5</td>\n",
       "      <td>88.76</td>\n",
       "    </tr>\n",
       "    <tr>\n",
       "      <th>4</th>\n",
       "      <td>PM2.5</td>\n",
       "      <td>64.18</td>\n",
       "    </tr>\n",
       "    <tr>\n",
       "      <th>...</th>\n",
       "      <td>...</td>\n",
       "      <td>...</td>\n",
       "    </tr>\n",
       "    <tr>\n",
       "      <th>1296415</th>\n",
       "      <td>Xylene</td>\n",
       "      <td>2.42</td>\n",
       "    </tr>\n",
       "    <tr>\n",
       "      <th>1296416</th>\n",
       "      <td>Xylene</td>\n",
       "      <td>2.42</td>\n",
       "    </tr>\n",
       "    <tr>\n",
       "      <th>1296417</th>\n",
       "      <td>Xylene</td>\n",
       "      <td>2.42</td>\n",
       "    </tr>\n",
       "    <tr>\n",
       "      <th>1296418</th>\n",
       "      <td>Xylene</td>\n",
       "      <td>2.42</td>\n",
       "    </tr>\n",
       "    <tr>\n",
       "      <th>1296419</th>\n",
       "      <td>Xylene</td>\n",
       "      <td>2.42</td>\n",
       "    </tr>\n",
       "  </tbody>\n",
       "</table>\n",
       "<p>1296420 rows × 2 columns</p>\n",
       "</div>"
      ],
      "text/plain": [
       "        Pollutants  Concentration\n",
       "0            PM2.5          71.36\n",
       "1            PM2.5          81.40\n",
       "2            PM2.5          78.32\n",
       "3            PM2.5          88.76\n",
       "4            PM2.5          64.18\n",
       "...            ...            ...\n",
       "1296415     Xylene           2.42\n",
       "1296416     Xylene           2.42\n",
       "1296417     Xylene           2.42\n",
       "1296418     Xylene           2.42\n",
       "1296419     Xylene           2.42\n",
       "\n",
       "[1296420 rows x 2 columns]"
      ]
     },
     "execution_count": 33,
     "metadata": {},
     "output_type": "execute_result"
    }
   ],
   "source": [
    "pollutants_data = {'Pollutants': pollutants_list, 'Concentration': concentration}\n",
    "pollutants_df = pd.DataFrame(pollutants_data)\n",
    "pollutants_df"
   ]
  },
  {
   "cell_type": "code",
   "execution_count": 34,
   "metadata": {},
   "outputs": [
    {
     "data": {
      "text/plain": [
       "<AxesSubplot:xlabel='Pollutants', ylabel='Concentration'>"
      ]
     },
     "execution_count": 34,
     "metadata": {},
     "output_type": "execute_result"
    },
    {
     "data": {
      "image/png": "[encoded data removed]",
      "text/plain": [
       "<Figure size 864x504 with 1 Axes>"
      ]
     },
     "metadata": {
      "needs_background": "light"
     },
     "output_type": "display_data"
    }
   ],
   "source": [
    "sns.barplot('Pollutants', 'Concentration', data=pollutants_df)"
   ]
  },
  {
   "cell_type": "markdown",
   "metadata": {},
   "source": [
    "From this bar graph, we observe that, most pollutants don't show high standard deviations relative to their average contributions, except CO, whose standard deviation seems negligible but cannot actually be neglected as it has a very minute average concentration. Overall, we can see that the concentration of particulate matter is the highest and carbon-based pollutants is the lowest."
   ]
  },
  {
   "cell_type": "markdown",
   "metadata": {},
   "source": [
    "There are 6 values for **AQI_Bucket**, that is, the Air Quality Index can be categorized into 6 categories, and all the categories are printed below using the `unique()` method. The **Total_conc** is plotted against the **AQI**, different colours representing different categories. This kind of plot is called a scatterplot."
   ]
  },
  {
   "cell_type": "code",
   "execution_count": 43,
   "metadata": {},
   "outputs": [
    {
     "data": {
      "text/plain": [
       "array([nan, 'Moderate', 'Poor', 'Very Poor', 'Satisfactory', 'Good',\n",
       "       'Severe'], dtype=object)"
      ]
     },
     "execution_count": 43,
     "metadata": {},
     "output_type": "execute_result"
    }
   ],
   "source": [
    "air_quality_raw_df.AQI_Bucket.unique()"
   ]
  },
  {
   "cell_type": "code",
   "execution_count": 44,
   "metadata": {},
   "outputs": [
    {
     "data": {
      "image/png": "[encoded data removed]",
      "text/plain": [
       "<Figure size 864x504 with 1 Axes>"
      ]
     },
     "metadata": {
      "needs_background": "light"
     },
     "output_type": "display_data"
    }
   ],
   "source": [
    "sns.scatterplot(air_quality_raw_df.Total_conc, air_quality_raw_df.AQI, hue=air_quality_raw_df.AQI_Bucket, s=10);"
   ]
  },
  {
   "cell_type": "markdown",
   "metadata": {},
   "source": [
    "This scatterplot does not show any significant relationship between the total concentration and the Air Quality Index. But it does tell us the follwing things:\n",
    "1. Higher AQI corresponds to poorer quality of air.\n",
    "2. Better the quality of air, the lesser chance it has of having higher concentrations of pollutants.\n",
    "3. The upper limit for the range of total concentrations increases with increasing AQI.\n",
    "\n",
    "\n",
    "Summing it up, low AQI and negligible range with negigible concentrations map to Good air quality, a bit higher AQI and a small range of small concentrations(larger than pervious) map to Satisfactory, higher AQI with a small range of small concentrations(larger than previous) map to Moderate, even higher AQI with a larger range going from small to medium concentrations map to Poor, even higher AQI with an even larger range going from small to medium concentrations(larger than before) map to Very Poor and finally, the highest values of AQI and a huge range going from small concentrations to very large concentrations map to Severe."
   ]
  },
  {
   "cell_type": "markdown",
   "metadata": {},
   "source": [
    "Let's plot a heat map to observe the AQI for each month across 6 years. To do that, we create a new dataframe, `year_month_df`, which contains the average AQI for each month for each year. We add the columns for **year** and **month** explicitly, as, in the groupby object they behave as indexing columns. Then, using the `pivot()` method, we convert it to a matrix sort of a dataframe called `air_quality_matrix` and using that, plot a heat map."
   ]
  },
  {
   "cell_type": "code",
   "execution_count": 48,
   "metadata": {},
   "outputs": [],
   "source": [
    "year_month_df = air_quality_raw_df.groupby(['year', 'month'])[['AQI']].mean()\n",
    "year_month_df['year'] = [2015]*12 + [2016]*12 + [2017]*12 + [2018]*12 + [2019]*12 + [2020]*7\n",
    "year_month_df['month'] = [1, 2, 3, 4, 5, 6, 7, 8, 9, 10, 11, 12]*5 + [1, 2, 3, 4, 5, 6, 7]"
   ]
  },
  {
   "cell_type": "code",
   "execution_count": 49,
   "metadata": {},
   "outputs": [],
   "source": [
    "air_quality_matrix = year_month_df.pivot(\"month\", \"year\", \"AQI\")"
   ]
  },
  {
   "cell_type": "code",
   "execution_count": 50,
   "metadata": {},
   "outputs": [
    {
     "data": {
      "text/html": [
       "<div>\n",
       "<style scoped>\n",
       "    .dataframe tbody tr th:only-of-type {\n",
       "        vertical-align: middle;\n",
       "    }\n",
       "\n",
       "    .dataframe tbody tr th {\n",
       "        vertical-align: top;\n",
       "    }\n",
       "\n",
       "    .dataframe thead th {\n",
       "        text-align: right;\n",
       "    }\n",
       "</style>\n",
       "<table border=\"1\" class=\"dataframe\">\n",
       "  <thead>\n",
       "    <tr style=\"text-align: right;\">\n",
       "      <th>year</th>\n",
       "      <th>2015</th>\n",
       "      <th>2016</th>\n",
       "      <th>2017</th>\n",
       "      <th>2018</th>\n",
       "      <th>2019</th>\n",
       "      <th>2020</th>\n",
       "    </tr>\n",
       "    <tr>\n",
       "      <th>month</th>\n",
       "      <th></th>\n",
       "      <th></th>\n",
       "      <th></th>\n",
       "      <th></th>\n",
       "      <th></th>\n",
       "      <th></th>\n",
       "    </tr>\n",
       "  </thead>\n",
       "  <tbody>\n",
       "    <tr>\n",
       "      <th>1</th>\n",
       "      <td>133.677583</td>\n",
       "      <td>268.921128</td>\n",
       "      <td>220.264353</td>\n",
       "      <td>260.912979</td>\n",
       "      <td>281.490922</td>\n",
       "      <td>213.628423</td>\n",
       "    </tr>\n",
       "    <tr>\n",
       "      <th>2</th>\n",
       "      <td>188.864673</td>\n",
       "      <td>238.421379</td>\n",
       "      <td>208.371939</td>\n",
       "      <td>234.318822</td>\n",
       "      <td>208.020296</td>\n",
       "      <td>187.569059</td>\n",
       "    </tr>\n",
       "    <tr>\n",
       "      <th>3</th>\n",
       "      <td>206.116585</td>\n",
       "      <td>213.072886</td>\n",
       "      <td>184.696960</td>\n",
       "      <td>195.588111</td>\n",
       "      <td>170.401521</td>\n",
       "      <td>118.447859</td>\n",
       "    </tr>\n",
       "    <tr>\n",
       "      <th>4</th>\n",
       "      <td>207.827092</td>\n",
       "      <td>207.239611</td>\n",
       "      <td>191.076859</td>\n",
       "      <td>186.427029</td>\n",
       "      <td>178.233851</td>\n",
       "      <td>93.198974</td>\n",
       "    </tr>\n",
       "    <tr>\n",
       "      <th>5</th>\n",
       "      <td>217.661992</td>\n",
       "      <td>190.608908</td>\n",
       "      <td>184.384292</td>\n",
       "      <td>182.933092</td>\n",
       "      <td>182.514294</td>\n",
       "      <td>107.040904</td>\n",
       "    </tr>\n",
       "    <tr>\n",
       "      <th>6</th>\n",
       "      <td>177.709042</td>\n",
       "      <td>181.128109</td>\n",
       "      <td>161.329887</td>\n",
       "      <td>172.800186</td>\n",
       "      <td>140.223107</td>\n",
       "      <td>90.825409</td>\n",
       "    </tr>\n",
       "    <tr>\n",
       "      <th>7</th>\n",
       "      <td>166.945330</td>\n",
       "      <td>167.986888</td>\n",
       "      <td>150.471944</td>\n",
       "      <td>102.482726</td>\n",
       "      <td>107.370576</td>\n",
       "      <td>81.134853</td>\n",
       "    </tr>\n",
       "    <tr>\n",
       "      <th>8</th>\n",
       "      <td>171.274619</td>\n",
       "      <td>143.542385</td>\n",
       "      <td>151.319556</td>\n",
       "      <td>107.474554</td>\n",
       "      <td>87.144566</td>\n",
       "      <td>NaN</td>\n",
       "    </tr>\n",
       "    <tr>\n",
       "      <th>9</th>\n",
       "      <td>171.603664</td>\n",
       "      <td>144.605326</td>\n",
       "      <td>157.731361</td>\n",
       "      <td>112.303168</td>\n",
       "      <td>87.438790</td>\n",
       "      <td>NaN</td>\n",
       "    </tr>\n",
       "    <tr>\n",
       "      <th>10</th>\n",
       "      <td>228.857700</td>\n",
       "      <td>193.828724</td>\n",
       "      <td>222.421222</td>\n",
       "      <td>220.372304</td>\n",
       "      <td>168.783923</td>\n",
       "      <td>NaN</td>\n",
       "    </tr>\n",
       "    <tr>\n",
       "      <th>11</th>\n",
       "      <td>255.850034</td>\n",
       "      <td>238.375658</td>\n",
       "      <td>274.870266</td>\n",
       "      <td>278.743625</td>\n",
       "      <td>238.539812</td>\n",
       "      <td>NaN</td>\n",
       "    </tr>\n",
       "    <tr>\n",
       "      <th>12</th>\n",
       "      <td>247.148020</td>\n",
       "      <td>230.755147</td>\n",
       "      <td>242.699974</td>\n",
       "      <td>297.073115</td>\n",
       "      <td>235.022405</td>\n",
       "      <td>NaN</td>\n",
       "    </tr>\n",
       "  </tbody>\n",
       "</table>\n",
       "</div>"
      ],
      "text/plain": [
       "year         2015        2016        2017        2018        2019        2020\n",
       "month                                                                        \n",
       "1      133.677583  268.921128  220.264353  260.912979  281.490922  213.628423\n",
       "2      188.864673  238.421379  208.371939  234.318822  208.020296  187.569059\n",
       "3      206.116585  213.072886  184.696960  195.588111  170.401521  118.447859\n",
       "4      207.827092  207.239611  191.076859  186.427029  178.233851   93.198974\n",
       "5      217.661992  190.608908  184.384292  182.933092  182.514294  107.040904\n",
       "6      177.709042  181.128109  161.329887  172.800186  140.223107   90.825409\n",
       "7      166.945330  167.986888  150.471944  102.482726  107.370576   81.134853\n",
       "8      171.274619  143.542385  151.319556  107.474554   87.144566         NaN\n",
       "9      171.603664  144.605326  157.731361  112.303168   87.438790         NaN\n",
       "10     228.857700  193.828724  222.421222  220.372304  168.783923         NaN\n",
       "11     255.850034  238.375658  274.870266  278.743625  238.539812         NaN\n",
       "12     247.148020  230.755147  242.699974  297.073115  235.022405         NaN"
      ]
     },
     "execution_count": 50,
     "metadata": {},
     "output_type": "execute_result"
    }
   ],
   "source": [
    "air_quality_matrix"
   ]
  },
  {
   "cell_type": "code",
   "execution_count": 51,
   "metadata": {},
   "outputs": [
    {
     "data": {
      "image/png": "[encoded data removed]",
      "text/plain": [
       "<Figure size 864x504 with 2 Axes>"
      ]
     },
     "metadata": {
      "needs_background": "light"
     },
     "output_type": "display_data"
    }
   ],
   "source": [
    "plt.title(\"Air Quality Index\")\n",
    "sns.heatmap(air_quality_matrix);"
   ]
  },
  {
   "cell_type": "markdown",
   "metadata": {},
   "source": [
    "The last few cells of the year 2020 are blank as we don't have any data for the last few months of the year. The general trend we can observe is that, the AQI has significantly decreased in 2020, probably due to the pandemic, which is responsible for the lockdown, in turn controlling the human activities which led to a lot of air pollution previosuly. Also, the AQI seems to be less during the summer months and high during the winter months, probably due to some scientific reasons like, the density of air closer to land being more."
   ]
  },
  {
   "cell_type": "markdown",
   "metadata": {},
   "source": [
    "Let's draw a line graph to observe the variation in concentrations of the pollutants over the years. For that, first we create a list of years from 2015 to 2020, to go on the X-axis and then after obtaining the mean concentrations of the pollutants for each each year, plot the pollutants individually on the graph."
   ]
  },
  {
   "cell_type": "code",
   "execution_count": 62,
   "metadata": {},
   "outputs": [
    {
     "data": {
      "text/plain": [
       "[2015, 2016, 2017, 2018, 2019, 2020]"
      ]
     },
     "execution_count": 62,
     "metadata": {},
     "output_type": "execute_result"
    }
   ],
   "source": [
    "year = sorted(list(air_quality_raw_df.year.unique()))\n",
    "year"
   ]
  },
  {
   "cell_type": "code",
   "execution_count": 63,
   "metadata": {},
   "outputs": [],
   "source": [
    "year_poll_df = air_quality_raw_df.groupby('year')[pollutants].mean()\n",
    "pm25 = list(year_poll_df['PM2.5'])\n",
    "pm10 = list(year_poll_df['PM10'])\n",
    "no = list(year_poll_df['NO'])\n",
    "no2 = list(year_poll_df['NO2'])\n",
    "nox = list(year_poll_df['NOx'])\n",
    "nh3 = list(year_poll_df['NH3'])\n",
    "co = list(year_poll_df['CO'])\n",
    "so2 = list(year_poll_df['SO2'])\n",
    "o3 = list(year_poll_df['O3'])\n",
    "benzene = list(year_poll_df['Benzene'])\n",
    "toluene = list(year_poll_df['Toluene'])\n",
    "xylene = list(year_poll_df['Xylene'])"
   ]
  },
  {
   "cell_type": "code",
   "execution_count": 64,
   "metadata": {},
   "outputs": [
    {
     "data": {
      "image/png": "[encoded data removed]",
      "text/plain": [
       "<Figure size 864x504 with 1 Axes>"
      ]
     },
     "metadata": {},
     "output_type": "display_data"
    }
   ],
   "source": [
    "sns.set_style(\"whitegrid\")\n",
    "plt.plot(year, pm25, '-k')\n",
    "plt.plot(year, pm10, '--k')\n",
    "plt.plot(year, no, '-b')\n",
    "plt.plot(year, no2, '-g')\n",
    "plt.plot(year, nox, '-r')\n",
    "plt.plot(year, nh3, '-c')\n",
    "plt.plot(year, co, '-m')\n",
    "plt.plot(year, so2, '--b')\n",
    "plt.plot(year, o3, '--g')\n",
    "plt.plot(year, benzene, '--r')\n",
    "plt.plot(year, toluene, '--c')\n",
    "plt.plot(year, xylene, '--m')\n",
    "\n",
    "plt.xlabel('Year')\n",
    "plt.ylabel('Pollutants')\n",
    "\n",
    "plt.title(\"Amount of Pollutants per year\")\n",
    "plt.legend(pollutants);"
   ]
  },
  {
   "cell_type": "markdown",
   "metadata": {},
   "source": [
    "We can see that the relative concentrations of the pollutants among each other resonate with the first bar graph we made. We can also see that the concentration of most pollutants is the highest for the year 2018(or 2017 in some cases) and from there on decreases till the year 2020."
   ]
  },
  {
   "cell_type": "code",
   "execution_count": 66,
   "metadata": {},
   "outputs": [
    {
     "data": {
      "text/html": [
       "<div>\n",
       "<style scoped>\n",
       "    .dataframe tbody tr th:only-of-type {\n",
       "        vertical-align: middle;\n",
       "    }\n",
       "\n",
       "    .dataframe tbody tr th {\n",
       "        vertical-align: top;\n",
       "    }\n",
       "\n",
       "    .dataframe thead th {\n",
       "        text-align: right;\n",
       "    }\n",
       "</style>\n",
       "<table border=\"1\" class=\"dataframe\">\n",
       "  <thead>\n",
       "    <tr style=\"text-align: right;\">\n",
       "      <th></th>\n",
       "      <th>Total_conc</th>\n",
       "      <th>AQI</th>\n",
       "      <th>year</th>\n",
       "    </tr>\n",
       "    <tr>\n",
       "      <th>year</th>\n",
       "      <th></th>\n",
       "      <th></th>\n",
       "      <th></th>\n",
       "    </tr>\n",
       "  </thead>\n",
       "  <tbody>\n",
       "    <tr>\n",
       "      <th>2015</th>\n",
       "      <td>403.822511</td>\n",
       "      <td>200.515974</td>\n",
       "      <td>2015</td>\n",
       "    </tr>\n",
       "    <tr>\n",
       "      <th>2016</th>\n",
       "      <td>406.612959</td>\n",
       "      <td>200.998899</td>\n",
       "      <td>2016</td>\n",
       "    </tr>\n",
       "    <tr>\n",
       "      <th>2017</th>\n",
       "      <td>419.386309</td>\n",
       "      <td>198.386098</td>\n",
       "      <td>2017</td>\n",
       "    </tr>\n",
       "    <tr>\n",
       "      <th>2018</th>\n",
       "      <td>463.130643</td>\n",
       "      <td>194.214368</td>\n",
       "      <td>2018</td>\n",
       "    </tr>\n",
       "    <tr>\n",
       "      <th>2019</th>\n",
       "      <td>411.375064</td>\n",
       "      <td>171.945611</td>\n",
       "      <td>2019</td>\n",
       "    </tr>\n",
       "    <tr>\n",
       "      <th>2020</th>\n",
       "      <td>337.237761</td>\n",
       "      <td>133.396901</td>\n",
       "      <td>2020</td>\n",
       "    </tr>\n",
       "  </tbody>\n",
       "</table>\n",
       "</div>"
      ],
      "text/plain": [
       "      Total_conc         AQI  year\n",
       "year                              \n",
       "2015  403.822511  200.515974  2015\n",
       "2016  406.612959  200.998899  2016\n",
       "2017  419.386309  198.386098  2017\n",
       "2018  463.130643  194.214368  2018\n",
       "2019  411.375064  171.945611  2019\n",
       "2020  337.237761  133.396901  2020"
      ]
     },
     "execution_count": 66,
     "metadata": {},
     "output_type": "execute_result"
    }
   ],
   "source": [
    "year_aqi_conc_df = air_quality_raw_df.groupby('year')[['Total_conc', 'AQI']].mean()\n",
    "year_aqi_conc_df['year'] = year\n",
    "year_aqi_conc_df"
   ]
  },
  {
   "cell_type": "code",
   "execution_count": 68,
   "metadata": {},
   "outputs": [
    {
     "data": {
      "image/png": "[encoded data removed]",
      "text/plain": [
       "<Figure size 864x504 with 1 Axes>"
      ]
     },
     "metadata": {},
     "output_type": "display_data"
    }
   ],
   "source": [
    "sns.set_style(\"whitegrid\")\n",
    "plt.plot(year_aqi_conc_df.year, year_aqi_conc_df.AQI, '-m')\n",
    "plt.plot(year_aqi_conc_df.year, year_aqi_conc_df.Total_conc, '-c')\n",
    "plt.xlabel('Year')\n",
    "plt.ylabel('Total Concentration and AQI')\n",
    "\n",
    "plt.title(\"AQI and Total Concentration per year\")\n",
    "plt.legend(['AQI', 'Total Conc']);"
   ]
  },
  {
   "cell_type": "markdown",
   "metadata": {},
   "source": [
    "The general trend can be seen as the AQI increasing as the total concentration increases and decreasing as the total concentration decreases. Although, one anomaly can be observed for the year 2018, when the total concentration increases significantly, but the same trend is not observed for AQI. This also shows that the formula for AQI is much more complicated than just a few arithmetic operations on the concentrations of the pollutants."
   ]
  },
  {
   "cell_type": "markdown",
   "metadata": {},
   "source": [
    "Let us save and upload our work to Jovian before continuing"
   ]
  },
  {
   "cell_type": "code",
   "execution_count": 69,
   "metadata": {},
   "outputs": [],
   "source": [
    "import jovian"
   ]
  },
  {
   "cell_type": "code",
   "execution_count": 70,
   "metadata": {},
   "outputs": [
    {
     "data": {
      "application/javascript": [
       "window.require && require([\"base/js/namespace\"],function(Jupyter){Jupyter.notebook.save_checkpoint()})"
      ],
      "text/plain": [
       "<IPython.core.display.Javascript object>"
      ]
     },
     "metadata": {},
     "output_type": "display_data"
    },
    {
     "name": "stdout",
     "output_type": "stream",
     "text": [
      "[jovian] Attempting to save notebook..\u001b[0m\n",
      "[jovian] Updating notebook \"sejalgupta01/air-quality-in-india\" on https://jovian.ml/\u001b[0m\n",
      "[jovian] Uploading notebook..\u001b[0m\n",
      "[jovian] Capturing environment..\u001b[0m\n",
      "[jovian] Committed successfully! https://jovian.ml/sejalgupta01/air-quality-in-india\u001b[0m\n"
     ]
    },
    {
     "data": {
      "text/plain": [
       "'https://jovian.ml/sejalgupta01/air-quality-in-india'"
      ]
     },
     "execution_count": 70,
     "metadata": {},
     "output_type": "execute_result"
    }
   ],
   "source": [
    "jovian.commit()"
   ]
  },
  {
   "cell_type": "markdown",
   "metadata": {},
   "source": [
    "## Asking and Answering Questions\n",
    "\n",
    "In this section, we ask and answer interesting questions about the data which finally help us to utilize all the information that we have and draw some useful conclusions. This section basically converts our information into knowledge."
   ]
  },
  {
   "cell_type": "markdown",
   "metadata": {},
   "source": [
    "#### Which station has the best air quality and which station has the most hazardous air quality on an overall basis?"
   ]
  },
  {
   "cell_type": "markdown",
   "metadata": {},
   "source": [
    "To proceed with this, we'll first group the mean values of the AQI according to the Stations, using the `groupby()` method, and put this into a new dataframe called `aqi_stations_df`. This data frame has the **StationId** as the indexing column and the mean values of AQI for each station in the column **AQI**(over the whole time period that we're given the data for). Then we sort it according to the **AQI** column. Hence, the best air quality is for the station in the first row and the worst air quality is for the station in the last row."
   ]
  },
  {
   "cell_type": "code",
   "execution_count": 76,
   "metadata": {},
   "outputs": [],
   "source": [
    "aqi_stations_df = air_quality_raw_df.groupby('StationId')[['AQI']].mean()"
   ]
  },
  {
   "cell_type": "code",
   "execution_count": 83,
   "metadata": {},
   "outputs": [
    {
     "data": {
      "text/html": [
       "<div>\n",
       "<style scoped>\n",
       "    .dataframe tbody tr th:only-of-type {\n",
       "        vertical-align: middle;\n",
       "    }\n",
       "\n",
       "    .dataframe tbody tr th {\n",
       "        vertical-align: top;\n",
       "    }\n",
       "\n",
       "    .dataframe thead th {\n",
       "        text-align: right;\n",
       "    }\n",
       "</style>\n",
       "<table border=\"1\" class=\"dataframe\">\n",
       "  <thead>\n",
       "    <tr style=\"text-align: right;\">\n",
       "      <th></th>\n",
       "      <th>AQI</th>\n",
       "    </tr>\n",
       "    <tr>\n",
       "      <th>StationId</th>\n",
       "      <th></th>\n",
       "    </tr>\n",
       "  </thead>\n",
       "  <tbody>\n",
       "    <tr>\n",
       "      <th>MZ001</th>\n",
       "      <td>34.853982</td>\n",
       "    </tr>\n",
       "    <tr>\n",
       "      <th>ML001</th>\n",
       "      <td>49.783871</td>\n",
       "    </tr>\n",
       "    <tr>\n",
       "      <th>KA010</th>\n",
       "      <td>63.478222</td>\n",
       "    </tr>\n",
       "    <tr>\n",
       "      <th>KL007</th>\n",
       "      <td>66.546703</td>\n",
       "    </tr>\n",
       "    <tr>\n",
       "      <th>MH006</th>\n",
       "      <td>70.642889</td>\n",
       "    </tr>\n",
       "    <tr>\n",
       "      <th>...</th>\n",
       "      <td>...</td>\n",
       "    </tr>\n",
       "    <tr>\n",
       "      <th>DL038</th>\n",
       "      <td>270.707483</td>\n",
       "    </tr>\n",
       "    <tr>\n",
       "      <th>DL033</th>\n",
       "      <td>274.824291</td>\n",
       "    </tr>\n",
       "    <tr>\n",
       "      <th>DL028</th>\n",
       "      <td>317.014114</td>\n",
       "    </tr>\n",
       "    <tr>\n",
       "      <th>DL002</th>\n",
       "      <td>358.765919</td>\n",
       "    </tr>\n",
       "    <tr>\n",
       "      <th>GJ001</th>\n",
       "      <td>395.664261</td>\n",
       "    </tr>\n",
       "  </tbody>\n",
       "</table>\n",
       "<p>110 rows × 1 columns</p>\n",
       "</div>"
      ],
      "text/plain": [
       "                  AQI\n",
       "StationId            \n",
       "MZ001       34.853982\n",
       "ML001       49.783871\n",
       "KA010       63.478222\n",
       "KL007       66.546703\n",
       "MH006       70.642889\n",
       "...               ...\n",
       "DL038      270.707483\n",
       "DL033      274.824291\n",
       "DL028      317.014114\n",
       "DL002      358.765919\n",
       "GJ001      395.664261\n",
       "\n",
       "[110 rows x 1 columns]"
      ]
     },
     "execution_count": 83,
     "metadata": {},
     "output_type": "execute_result"
    }
   ],
   "source": [
    "aqi_stations_df = aqi_stations_df.sort_values('AQI')\n",
    "aqi_stations_df"
   ]
  },
  {
   "cell_type": "code",
   "execution_count": 78,
   "metadata": {},
   "outputs": [],
   "source": [
    "lowest_aqi = list(aqi_stations_df.AQI)[0]\n",
    "highest_aqi = list(aqi_stations_df.AQI)[-1]\n",
    "lowest_aqi_station = list(aqi_stations_df.index)[0]\n",
    "highest_aqi_station = list(aqi_stations_df.index)[-1]"
   ]
  },
  {
   "cell_type": "code",
   "execution_count": 79,
   "metadata": {},
   "outputs": [
    {
     "name": "stdout",
     "output_type": "stream",
     "text": [
      "MZ001 has the best air quality with an overall average AQI of 34.85398230088496.\n",
      "GJ001 has the worst air quality with an overall average AQI of 395.66426082628175.\n"
     ]
    }
   ],
   "source": [
    "print(\"{} has the best air quality with an overall average AQI of {}.\".format(lowest_aqi_station, lowest_aqi))\n",
    "print(\"{} has the worst air quality with an overall average AQI of {}.\".format(highest_aqi_station, highest_aqi))"
   ]
  },
  {
   "cell_type": "markdown",
   "metadata": {},
   "source": [
    "#### Which year gave Indians the most liberty to breathe and which year proved to be the worst for our lungs?"
   ]
  },
  {
   "cell_type": "markdown",
   "metadata": {},
   "source": [
    "To find this out, we'll first create a new dataframe called `year_aqi_df`, using `groupby()`, which contains the average AQI for each year, across all the stations in India that we have the data for. We'll sort it in descending order, and the year in the first row is the year our lungs suffered and the year in the last row allowed us to breather freely :)"
   ]
  },
  {
   "cell_type": "code",
   "execution_count": 82,
   "metadata": {},
   "outputs": [
    {
     "data": {
      "text/html": [
       "<div>\n",
       "<style scoped>\n",
       "    .dataframe tbody tr th:only-of-type {\n",
       "        vertical-align: middle;\n",
       "    }\n",
       "\n",
       "    .dataframe tbody tr th {\n",
       "        vertical-align: top;\n",
       "    }\n",
       "\n",
       "    .dataframe thead th {\n",
       "        text-align: right;\n",
       "    }\n",
       "</style>\n",
       "<table border=\"1\" class=\"dataframe\">\n",
       "  <thead>\n",
       "    <tr style=\"text-align: right;\">\n",
       "      <th></th>\n",
       "      <th>AQI</th>\n",
       "      <th>year</th>\n",
       "    </tr>\n",
       "    <tr>\n",
       "      <th>year</th>\n",
       "      <th></th>\n",
       "      <th></th>\n",
       "    </tr>\n",
       "  </thead>\n",
       "  <tbody>\n",
       "    <tr>\n",
       "      <th>2016</th>\n",
       "      <td>200.998899</td>\n",
       "      <td>2016</td>\n",
       "    </tr>\n",
       "    <tr>\n",
       "      <th>2015</th>\n",
       "      <td>200.515974</td>\n",
       "      <td>2015</td>\n",
       "    </tr>\n",
       "    <tr>\n",
       "      <th>2017</th>\n",
       "      <td>198.386098</td>\n",
       "      <td>2017</td>\n",
       "    </tr>\n",
       "    <tr>\n",
       "      <th>2018</th>\n",
       "      <td>194.214368</td>\n",
       "      <td>2018</td>\n",
       "    </tr>\n",
       "    <tr>\n",
       "      <th>2019</th>\n",
       "      <td>171.945611</td>\n",
       "      <td>2019</td>\n",
       "    </tr>\n",
       "    <tr>\n",
       "      <th>2020</th>\n",
       "      <td>133.396901</td>\n",
       "      <td>2020</td>\n",
       "    </tr>\n",
       "  </tbody>\n",
       "</table>\n",
       "</div>"
      ],
      "text/plain": [
       "             AQI  year\n",
       "year                  \n",
       "2016  200.998899  2016\n",
       "2015  200.515974  2015\n",
       "2017  198.386098  2017\n",
       "2018  194.214368  2018\n",
       "2019  171.945611  2019\n",
       "2020  133.396901  2020"
      ]
     },
     "execution_count": 82,
     "metadata": {},
     "output_type": "execute_result"
    }
   ],
   "source": [
    "year_aqi_df = air_quality_raw_df.groupby('year')[['AQI']].mean()\n",
    "year_aqi_df['year'] = year\n",
    "year_aqi_df = year_aqi_df.sort_values('AQI', ascending=False)\n",
    "year_aqi_df"
   ]
  },
  {
   "cell_type": "code",
   "execution_count": 87,
   "metadata": {},
   "outputs": [
    {
     "name": "stdout",
     "output_type": "stream",
     "text": [
      "2020 gave Indians the most liberty to breathe and 2016 proved to be the worst for our lungs.\n"
     ]
    }
   ],
   "source": [
    "print(\"{} gave Indians the most liberty to breathe and {} proved to be the worst for our lungs.\".format(int(year_aqi_df.iloc[-1]['year']), int(year_aqi_df.iloc[0]['year'])))"
   ]
  },
  {
   "cell_type": "markdown",
   "metadata": {},
   "source": [
    "Air pollution reduced in 2020 because we couldn't go out, and now that we have cleaner air, it's sad that we can't go out.\n",
    "Serves us right :/"
   ]
  },
  {
   "cell_type": "markdown",
   "metadata": {},
   "source": [
    "#### Which day witnessed the most pollued air?"
   ]
  },
  {
   "cell_type": "markdown",
   "metadata": {},
   "source": [
    "To find that out, we'll use `groupby()` to create a new dataframe called `aqi_day_df` which contains the average value of AQI across all stations on every particular day, sort it in descending order, and the day in the first row has the highest AQI among all others."
   ]
  },
  {
   "cell_type": "code",
   "execution_count": 88,
   "metadata": {},
   "outputs": [],
   "source": [
    "aqi_day_df = air_quality_raw_df.groupby('Date')[['AQI']].mean()"
   ]
  },
  {
   "cell_type": "code",
   "execution_count": 89,
   "metadata": {},
   "outputs": [
    {
     "data": {
      "text/html": [
       "<div>\n",
       "<style scoped>\n",
       "    .dataframe tbody tr th:only-of-type {\n",
       "        vertical-align: middle;\n",
       "    }\n",
       "\n",
       "    .dataframe tbody tr th {\n",
       "        vertical-align: top;\n",
       "    }\n",
       "\n",
       "    .dataframe thead th {\n",
       "        text-align: right;\n",
       "    }\n",
       "</style>\n",
       "<table border=\"1\" class=\"dataframe\">\n",
       "  <thead>\n",
       "    <tr style=\"text-align: right;\">\n",
       "      <th></th>\n",
       "      <th>AQI</th>\n",
       "    </tr>\n",
       "    <tr>\n",
       "      <th>Date</th>\n",
       "      <th></th>\n",
       "    </tr>\n",
       "  </thead>\n",
       "  <tbody>\n",
       "    <tr>\n",
       "      <th>2019-01-03</th>\n",
       "      <td>396.033625</td>\n",
       "    </tr>\n",
       "    <tr>\n",
       "      <th>2018-12-23</th>\n",
       "      <td>380.989947</td>\n",
       "    </tr>\n",
       "    <tr>\n",
       "      <th>2017-11-09</th>\n",
       "      <td>380.925065</td>\n",
       "    </tr>\n",
       "    <tr>\n",
       "      <th>2018-12-24</th>\n",
       "      <td>375.065162</td>\n",
       "    </tr>\n",
       "    <tr>\n",
       "      <th>2017-11-08</th>\n",
       "      <td>374.916651</td>\n",
       "    </tr>\n",
       "    <tr>\n",
       "      <th>...</th>\n",
       "      <td>...</td>\n",
       "    </tr>\n",
       "    <tr>\n",
       "      <th>2019-09-30</th>\n",
       "      <td>72.883879</td>\n",
       "    </tr>\n",
       "    <tr>\n",
       "      <th>2019-08-18</th>\n",
       "      <td>72.539269</td>\n",
       "    </tr>\n",
       "    <tr>\n",
       "      <th>2019-08-17</th>\n",
       "      <td>71.805217</td>\n",
       "    </tr>\n",
       "    <tr>\n",
       "      <th>2020-06-24</th>\n",
       "      <td>71.141707</td>\n",
       "    </tr>\n",
       "    <tr>\n",
       "      <th>2019-09-29</th>\n",
       "      <td>70.655617</td>\n",
       "    </tr>\n",
       "  </tbody>\n",
       "</table>\n",
       "<p>2009 rows × 1 columns</p>\n",
       "</div>"
      ],
      "text/plain": [
       "                   AQI\n",
       "Date                  \n",
       "2019-01-03  396.033625\n",
       "2018-12-23  380.989947\n",
       "2017-11-09  380.925065\n",
       "2018-12-24  375.065162\n",
       "2017-11-08  374.916651\n",
       "...                ...\n",
       "2019-09-30   72.883879\n",
       "2019-08-18   72.539269\n",
       "2019-08-17   71.805217\n",
       "2020-06-24   71.141707\n",
       "2019-09-29   70.655617\n",
       "\n",
       "[2009 rows x 1 columns]"
      ]
     },
     "execution_count": 89,
     "metadata": {},
     "output_type": "execute_result"
    }
   ],
   "source": [
    "aqi_day_df = aqi_day_df.sort_values('AQI', ascending=False)\n",
    "aqi_day_df"
   ]
  },
  {
   "cell_type": "code",
   "execution_count": 96,
   "metadata": {},
   "outputs": [
    {
     "name": "stdout",
     "output_type": "stream",
     "text": [
      "2019-01-03 witnessed the most hazardous air quality in 6 years.\n"
     ]
    }
   ],
   "source": [
    "date = str(aqi_day_df.index[0]).split()[0]\n",
    "print(\"{} witnessed the most hazardous air quality in 6 years.\".format(date))"
   ]
  },
  {
   "cell_type": "markdown",
   "metadata": {},
   "source": [
    "#### Find the ranges to categorize the AQI values into appropriate AQI buckets."
   ]
  },
  {
   "cell_type": "markdown",
   "metadata": {},
   "source": [
    "First we create a new dataframe `aqi_df` which contains all values of AQI and the corresponding AQI buckets, taken from the original dataframe `air_quality_raw_df`. Then we discard all the `nan` values. Then we create a list **aqi_bucket** containing unique values for all the buckets. Finally, we iterate through all the buckets, create a temporary dataframe for each, containing only the AQI values for that particular bucket and find the minimum and maximum AQI values for each bucket using `temp_df`. "
   ]
  },
  {
   "cell_type": "code",
   "execution_count": 97,
   "metadata": {},
   "outputs": [
    {
     "data": {
      "text/html": [
       "<div>\n",
       "<style scoped>\n",
       "    .dataframe tbody tr th:only-of-type {\n",
       "        vertical-align: middle;\n",
       "    }\n",
       "\n",
       "    .dataframe tbody tr th {\n",
       "        vertical-align: top;\n",
       "    }\n",
       "\n",
       "    .dataframe thead th {\n",
       "        text-align: right;\n",
       "    }\n",
       "</style>\n",
       "<table border=\"1\" class=\"dataframe\">\n",
       "  <thead>\n",
       "    <tr style=\"text-align: right;\">\n",
       "      <th></th>\n",
       "      <th>AQI_Bucket</th>\n",
       "      <th>AQI</th>\n",
       "    </tr>\n",
       "  </thead>\n",
       "  <tbody>\n",
       "    <tr>\n",
       "      <th>0</th>\n",
       "      <td>NaN</td>\n",
       "      <td>NaN</td>\n",
       "    </tr>\n",
       "    <tr>\n",
       "      <th>1</th>\n",
       "      <td>Moderate</td>\n",
       "      <td>184.0</td>\n",
       "    </tr>\n",
       "    <tr>\n",
       "      <th>2</th>\n",
       "      <td>Moderate</td>\n",
       "      <td>197.0</td>\n",
       "    </tr>\n",
       "    <tr>\n",
       "      <th>3</th>\n",
       "      <td>Moderate</td>\n",
       "      <td>198.0</td>\n",
       "    </tr>\n",
       "    <tr>\n",
       "      <th>4</th>\n",
       "      <td>Moderate</td>\n",
       "      <td>188.0</td>\n",
       "    </tr>\n",
       "    <tr>\n",
       "      <th>...</th>\n",
       "      <td>...</td>\n",
       "      <td>...</td>\n",
       "    </tr>\n",
       "    <tr>\n",
       "      <th>108030</th>\n",
       "      <td>Good</td>\n",
       "      <td>50.0</td>\n",
       "    </tr>\n",
       "    <tr>\n",
       "      <th>108031</th>\n",
       "      <td>Satisfactory</td>\n",
       "      <td>65.0</td>\n",
       "    </tr>\n",
       "    <tr>\n",
       "      <th>108032</th>\n",
       "      <td>Satisfactory</td>\n",
       "      <td>63.0</td>\n",
       "    </tr>\n",
       "    <tr>\n",
       "      <th>108033</th>\n",
       "      <td>Satisfactory</td>\n",
       "      <td>57.0</td>\n",
       "    </tr>\n",
       "    <tr>\n",
       "      <th>108034</th>\n",
       "      <td>Satisfactory</td>\n",
       "      <td>59.0</td>\n",
       "    </tr>\n",
       "  </tbody>\n",
       "</table>\n",
       "<p>108035 rows × 2 columns</p>\n",
       "</div>"
      ],
      "text/plain": [
       "          AQI_Bucket    AQI\n",
       "0                NaN    NaN\n",
       "1           Moderate  184.0\n",
       "2           Moderate  197.0\n",
       "3           Moderate  198.0\n",
       "4           Moderate  188.0\n",
       "...              ...    ...\n",
       "108030          Good   50.0\n",
       "108031  Satisfactory   65.0\n",
       "108032  Satisfactory   63.0\n",
       "108033  Satisfactory   57.0\n",
       "108034  Satisfactory   59.0\n",
       "\n",
       "[108035 rows x 2 columns]"
      ]
     },
     "execution_count": 97,
     "metadata": {},
     "output_type": "execute_result"
    }
   ],
   "source": [
    "aqi_data = {'AQI_Bucket': list(air_quality_raw_df.AQI_Bucket), 'AQI': list(air_quality_raw_df.AQI)} \n",
    "aqi_df = pd.DataFrame(aqi_data) \n",
    "aqi_df"
   ]
  },
  {
   "cell_type": "code",
   "execution_count": 98,
   "metadata": {},
   "outputs": [
    {
     "data": {
      "text/html": [
       "<div>\n",
       "<style scoped>\n",
       "    .dataframe tbody tr th:only-of-type {\n",
       "        vertical-align: middle;\n",
       "    }\n",
       "\n",
       "    .dataframe tbody tr th {\n",
       "        vertical-align: top;\n",
       "    }\n",
       "\n",
       "    .dataframe thead th {\n",
       "        text-align: right;\n",
       "    }\n",
       "</style>\n",
       "<table border=\"1\" class=\"dataframe\">\n",
       "  <thead>\n",
       "    <tr style=\"text-align: right;\">\n",
       "      <th></th>\n",
       "      <th>AQI_Bucket</th>\n",
       "      <th>AQI</th>\n",
       "    </tr>\n",
       "  </thead>\n",
       "  <tbody>\n",
       "    <tr>\n",
       "      <th>0</th>\n",
       "      <td>Moderate</td>\n",
       "      <td>184.0</td>\n",
       "    </tr>\n",
       "    <tr>\n",
       "      <th>1</th>\n",
       "      <td>Moderate</td>\n",
       "      <td>197.0</td>\n",
       "    </tr>\n",
       "    <tr>\n",
       "      <th>2</th>\n",
       "      <td>Moderate</td>\n",
       "      <td>198.0</td>\n",
       "    </tr>\n",
       "    <tr>\n",
       "      <th>3</th>\n",
       "      <td>Moderate</td>\n",
       "      <td>188.0</td>\n",
       "    </tr>\n",
       "    <tr>\n",
       "      <th>4</th>\n",
       "      <td>Moderate</td>\n",
       "      <td>173.0</td>\n",
       "    </tr>\n",
       "    <tr>\n",
       "      <th>...</th>\n",
       "      <td>...</td>\n",
       "      <td>...</td>\n",
       "    </tr>\n",
       "    <tr>\n",
       "      <th>87020</th>\n",
       "      <td>Good</td>\n",
       "      <td>50.0</td>\n",
       "    </tr>\n",
       "    <tr>\n",
       "      <th>87021</th>\n",
       "      <td>Satisfactory</td>\n",
       "      <td>65.0</td>\n",
       "    </tr>\n",
       "    <tr>\n",
       "      <th>87022</th>\n",
       "      <td>Satisfactory</td>\n",
       "      <td>63.0</td>\n",
       "    </tr>\n",
       "    <tr>\n",
       "      <th>87023</th>\n",
       "      <td>Satisfactory</td>\n",
       "      <td>57.0</td>\n",
       "    </tr>\n",
       "    <tr>\n",
       "      <th>87024</th>\n",
       "      <td>Satisfactory</td>\n",
       "      <td>59.0</td>\n",
       "    </tr>\n",
       "  </tbody>\n",
       "</table>\n",
       "<p>87025 rows × 2 columns</p>\n",
       "</div>"
      ],
      "text/plain": [
       "         AQI_Bucket    AQI\n",
       "0          Moderate  184.0\n",
       "1          Moderate  197.0\n",
       "2          Moderate  198.0\n",
       "3          Moderate  188.0\n",
       "4          Moderate  173.0\n",
       "...             ...    ...\n",
       "87020          Good   50.0\n",
       "87021  Satisfactory   65.0\n",
       "87022  Satisfactory   63.0\n",
       "87023  Satisfactory   57.0\n",
       "87024  Satisfactory   59.0\n",
       "\n",
       "[87025 rows x 2 columns]"
      ]
     },
     "execution_count": 98,
     "metadata": {},
     "output_type": "execute_result"
    }
   ],
   "source": [
    "aqi_df = aqi_df.dropna()\n",
    "aqi_df = aqi_df.reset_index(drop=True)\n",
    "aqi_df"
   ]
  },
  {
   "cell_type": "code",
   "execution_count": 99,
   "metadata": {},
   "outputs": [],
   "source": [
    "aqi_bucket = list(aqi_df.AQI_Bucket.unique())"
   ]
  },
  {
   "cell_type": "code",
   "execution_count": 100,
   "metadata": {},
   "outputs": [
    {
     "name": "stdout",
     "output_type": "stream",
     "text": [
      "The range for Moderate AQI Bucket is from 101.0 to 200.0.\n",
      "The range for Poor AQI Bucket is from 201.0 to 300.0.\n",
      "The range for Very Poor AQI Bucket is from 301.0 to 400.0.\n",
      "The range for Satisfactory AQI Bucket is from 51.0 to 100.0.\n",
      "The range for Good AQI Bucket is from 8.0 to 50.0.\n",
      "The range for Severe AQI Bucket is from 401.0 to 2049.0.\n"
     ]
    }
   ],
   "source": [
    "for bucket in aqi_bucket:\n",
    "    temp_df = aqi_df[aqi_df.AQI_Bucket == bucket]\n",
    "    print(\"The range for \" + bucket + \" AQI Bucket is from {} to {}.\".format(temp_df.AQI.min(), temp_df.AQI.max()))"
   ]
  },
  {
   "cell_type": "markdown",
   "metadata": {},
   "source": [
    "#### What is the overall status of the air quality? Do we need to worry about it?"
   ]
  },
  {
   "cell_type": "markdown",
   "metadata": {},
   "source": [
    "To get an idea about the overall status of the air quality in India, let's plot a pie chart using the percentage with which each bucket appears in the dataframe. The bucket that appears the most will tell us about the overall inclination of the air quality. To do this, we create a dictionary with buckets as keys and the percentage with which they appear in the dataframe as values, and plot it in a pie chart. **Disclaimer: This won't give accurate values, only an overall idea, as there were some null values in AQI_Bucket column**."
   ]
  },
  {
   "cell_type": "code",
   "execution_count": 110,
   "metadata": {},
   "outputs": [
    {
     "data": {
      "text/plain": [
       "{'Moderate': 29417,\n",
       " 'Poor': 11493,\n",
       " 'Very Poor': 11762,\n",
       " 'Satisfactory': 23636,\n",
       " 'Good': 5510,\n",
       " 'Severe': 5207}"
      ]
     },
     "execution_count": 110,
     "metadata": {},
     "output_type": "execute_result"
    }
   ],
   "source": [
    "d = {i: 0 for i in aqi_bucket}\n",
    "for b in aqi_bucket:\n",
    "    d[b] = len(aqi_df[aqi_df.AQI_Bucket == b])\n",
    "d"
   ]
  },
  {
   "cell_type": "code",
   "execution_count": 116,
   "metadata": {},
   "outputs": [],
   "source": [
    "total = sum(d.values())\n",
    "for i in d:\n",
    "    d[i] /= total\n",
    "    d[i] *= 100\n",
    "percentages = list(d.values())"
   ]
  },
  {
   "cell_type": "code",
   "execution_count": 125,
   "metadata": {},
   "outputs": [
    {
     "data": {
      "text/plain": [
       "Text(0.5, 1.0, 'Overall status of the Air Quality')"
      ]
     },
     "execution_count": 125,
     "metadata": {},
     "output_type": "execute_result"
    },
    {
     "data": {
      "image/png": "[encoded data removed]",
      "text/plain": [
       "<Figure size 864x504 with 1 Axes>"
      ]
     },
     "metadata": {},
     "output_type": "display_data"
    }
   ],
   "source": [
    "plt.pie(percentages, labels=aqi_bucket, autopct='%0.2f%%')\n",
    "plt.title(\"Overall status of the Air Quality\")"
   ]
  },
  {
   "cell_type": "markdown",
   "metadata": {},
   "source": [
    "The percentage of the **Severe, Poor and Very Poor** buckets is worrying."
   ]
  },
  {
   "cell_type": "markdown",
   "metadata": {},
   "source": [
    "Let us save and upload our work to Jovian before continuing."
   ]
  },
  {
   "cell_type": "code",
   "execution_count": 126,
   "metadata": {},
   "outputs": [],
   "source": [
    "import jovian"
   ]
  },
  {
   "cell_type": "code",
   "execution_count": 127,
   "metadata": {},
   "outputs": [
    {
     "data": {
      "application/javascript": [
       "window.require && require([\"base/js/namespace\"],function(Jupyter){Jupyter.notebook.save_checkpoint()})"
      ],
      "text/plain": [
       "<IPython.core.display.Javascript object>"
      ]
     },
     "metadata": {},
     "output_type": "display_data"
    },
    {
     "name": "stdout",
     "output_type": "stream",
     "text": [
      "[jovian] Attempting to save notebook..\u001b[0m\n",
      "[jovian] Updating notebook \"sejalgupta01/air-quality-in-india\" on https://jovian.ml/\u001b[0m\n",
      "[jovian] Uploading notebook..\u001b[0m\n",
      "[jovian] Capturing environment..\u001b[0m\n",
      "[jovian] Committed successfully! https://jovian.ml/sejalgupta01/air-quality-in-india\u001b[0m\n"
     ]
    },
    {
     "data": {
      "text/plain": [
       "'https://jovian.ml/sejalgupta01/air-quality-in-india'"
      ]
     },
     "execution_count": 127,
     "metadata": {},
     "output_type": "execute_result"
    }
   ],
   "source": [
    "jovian.commit()"
   ]
  },
  {
   "cell_type": "markdown",
   "metadata": {},
   "source": [
    "## Inferences and Conclusion\n",
    "\n",
    "We have observed that 2016-2018 have been the worst years as far as air pollution is concerned, and 2020 has witnessed some improvement in that concern. The major behavorial change has been humans not stepping out of their homes and offices and factories being closed, which directly implies, less pollution by private vehicles and less industrial pollution. Hence, we can conclude that humans are an extremely significant factor that contributes to increasing air pollution. It is a matter of worry and even after the pandemic, we should look after it on an individual level at least."
   ]
  },
  {
   "cell_type": "code",
   "execution_count": 128,
   "metadata": {},
   "outputs": [],
   "source": [
    "import jovian"
   ]
  },
  {
   "cell_type": "code",
   "execution_count": 129,
   "metadata": {},
   "outputs": [
    {
     "data": {
      "application/javascript": [
       "window.require && require([\"base/js/namespace\"],function(Jupyter){Jupyter.notebook.save_checkpoint()})"
      ],
      "text/plain": [
       "<IPython.core.display.Javascript object>"
      ]
     },
     "metadata": {},
     "output_type": "display_data"
    },
    {
     "name": "stdout",
     "output_type": "stream",
     "text": [
      "[jovian] Attempting to save notebook..\u001b[0m\n",
      "[jovian] Updating notebook \"sejalgupta01/air-quality-in-india\" on https://jovian.ml/\u001b[0m\n",
      "[jovian] Uploading notebook..\u001b[0m\n",
      "[jovian] Capturing environment..\u001b[0m\n",
      "[jovian] Committed successfully! https://jovian.ml/sejalgupta01/air-quality-in-india\u001b[0m\n"
     ]
    },
    {
     "data": {
      "text/plain": [
       "'https://jovian.ml/sejalgupta01/air-quality-in-india'"
      ]
     },
     "execution_count": 129,
     "metadata": {},
     "output_type": "execute_result"
    }
   ],
   "source": [
    "jovian.commit()"
   ]
  },
  {
   "cell_type": "markdown",
   "metadata": {},
   "source": [
    "## References and Future Work\n",
    "\n",
    "### Future Work\n",
    "We know that there are some null values in the column **AQI_Bucket**, while there is only 1 null value in the column **AQI**. In one of the questions, we find out the ranges for each bucket. So the next step to improve the dataset could be, assigning non-null values to **AQI_Bucket**, using the **AQI** for corresponding rows. Also, for the first row which has a `nan` value for both, we can either discard the row or find out the formula for AQI using the concentrations of the pollutants, and assign it an appropriate non-null value.\n",
    "\n",
    "### References\n",
    "1. Dataset - [Kaggle](https://www.kaggle.com/)\n",
    "2. Fixing Bugs - [StackOverflow](https://stackoverflow.com/)\n",
    "3. Learning - [Pandas Docs](https://pandas.pydata.org/), [Matplotlib Docs](https://matplotlib.org/) and [ZeroToPandas Lecture Notebooks](https://jovian.ml/learn/data-analysis-with-python-zero-to-pandas)"
   ]
  },
  {
   "cell_type": "code",
   "execution_count": 130,
   "metadata": {},
   "outputs": [],
   "source": [
    "import jovian"
   ]
  },
  {
   "cell_type": "code",
   "execution_count": 131,
   "metadata": {
    "scrolled": true
   },
   "outputs": [
    {
     "data": {
      "application/javascript": [
       "window.require && require([\"base/js/namespace\"],function(Jupyter){Jupyter.notebook.save_checkpoint()})"
      ],
      "text/plain": [
       "<IPython.core.display.Javascript object>"
      ]
     },
     "metadata": {},
     "output_type": "display_data"
    },
    {
     "name": "stdout",
     "output_type": "stream",
     "text": [
      "[jovian] Attempting to save notebook..\u001b[0m\n",
      "[jovian] Updating notebook \"sejalgupta01/air-quality-in-india\" on https://jovian.ml/\u001b[0m\n",
      "[jovian] Uploading notebook..\u001b[0m\n",
      "[jovian] Capturing environment..\u001b[0m\n",
      "[jovian] Committed successfully! https://jovian.ml/sejalgupta01/air-quality-in-india\u001b[0m\n"
     ]
    },
    {
     "data": {
      "text/plain": [
       "'https://jovian.ml/sejalgupta01/air-quality-in-india'"
      ]
     },
     "execution_count": 131,
     "metadata": {},
     "output_type": "execute_result"
    }
   ],
   "source": [
    "jovian.commit()"
   ]
  },
  {
   "cell_type": "code",
   "execution_count": null,
   "metadata": {},
   "outputs": [],
   "source": []
  }
 ],
 "metadata": {
  "language_info": {
   "codemirror_mode": {
    "name": "ipython",
    "version": 3
   },
   "file_extension": ".py",
   "mimetype": "text/x-python",
   "name": "python",
   "nbconvert_exporter": "python",
   "pygments_lexer": "ipython3",
   "version": "3.8.5"
  }
 },
 "nbformat": 4,
 "nbformat_minor": 4
}